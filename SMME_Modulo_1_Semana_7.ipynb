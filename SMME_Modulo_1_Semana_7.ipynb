{
  "nbformat": 4,
  "nbformat_minor": 0,
  "metadata": {
    "colab": {
      "provenance": [],
      "authorship_tag": "ABX9TyMkKEYoZ9Y2W/DroDdLWS8H",
      "include_colab_link": true
    },
    "kernelspec": {
      "name": "python3",
      "display_name": "Python 3"
    },
    "language_info": {
      "name": "python"
    }
  },
  "cells": [
    {
      "cell_type": "markdown",
      "metadata": {
        "id": "view-in-github",
        "colab_type": "text"
      },
      "source": [
        "<a href=\"https://colab.research.google.com/github/SMMiroE/Herramientas-de-calculo-y-simulacion-de-procesos-dinamicos/blob/main/SMME_Modulo_1_Semana_7.ipynb\" target=\"_parent\"><img src=\"https://colab.research.google.com/assets/colab-badge.svg\" alt=\"Open In Colab\"/></a>"
      ]
    },
    {
      "cell_type": "markdown",
      "source": [
        "**Curso Herramientas para la simulación de Sistemas Dinámicos Actividades\n",
        "Semana 7 - Lenguaje Scilab**\n",
        "\n",
        "**Actividad 1: Circuito RLC en serie**\n",
        "\n",
        "1- Asignar valores a R=1, L=1Hy, y C=1F.\n",
        "\n",
        "a. Empleando la solución analítica, simular 3 segundos con una entrada de tensión escalón de 12V.\n",
        "\n",
        "b. Empleando el cálculo mediante Euler, verificar que coincida con el ítem anterior.\n",
        "\n",
        "\n",
        "Simulación con Parámetros Unitarios (Subamortiguado)\n",
        "Se asignaron R=1Ω, L=1Hy, y C=1F. Se aplicó una entrada de tensión escalón de 12V. Se empleó la solución analítica y el cálculo mediante Euler, verificando la coincidencia de los resultados y observando un comportamiento subamortiguado en el sistema.\n",
        "\n",
        "**[Ver Script de Scilab en GitHub](https://raw.githubusercontent.com/SMMiroE/Herramientas-de-calculo-y-simulacion-de-procesos-dinamicos/main/Modulo%201%20Semana%207/RLC%201%20Subamortiguado.sci)**\n",
        "\n",
        "![Gráfico Circuito RLC Unitario](https://raw.githubusercontent.com/SMMiroE/Herramientas-de-calculo-y-simulacion-de-procesos-dinamicos/main/Modulo%201%20Semana%207/RLC%201%20Subamortiguado.png)"
      ],
      "metadata": {
        "id": "FI2YCbWvibL_"
      }
    },
    {
      "cell_type": "markdown",
      "source": [
        "2- Asignar valores a R=2,2K, L=10Hy, y C=100nF. Obtener simulaciones que permitan estudiar la dinámica del sistema, con una entrada de tensión escalón de 12V.\n",
        "\n",
        "Se asignaron R=2.2kΩ, L=10µH, C=100nF y se aplicó una entrada de tensión escalón. Se verifica la coincidencia entre el método de Euler y la solución analítica, observando un comportamiento sobreamortiguado en el sistema.\n",
        "\n",
        "**[Ver Script de Scilab en GitHub](https://raw.githubusercontent.com/SMMiroE/Herramientas-de-calculo-y-simulacion-de-procesos-dinamicos/main/Modulo%201%20Semana%207/RLC%202%20Sobreamortiguado.sci)**\n",
        "\n",
        "![Gráfico Circuito RLC Sobreamortiguado](https://raw.githubusercontent.com/SMMiroE/Herramientas-de-calculo-y-simulacion-de-procesos-dinamicos/main/Modulo%201%20Semana%207/RLC%202%20Sobreamortiguado.png)\n",
        "\n"
      ],
      "metadata": {
        "id": "9EiHxefLglR1"
      }
    },
    {
      "cell_type": "markdown",
      "source": [
        "3- Asumir que la tensión de entrada cambia de signo cada 1ms.\n",
        "Se analiza el comportamiento del circuito RLC con R=2.2kΩ, L=10µH, C=100nF y una tensión de entrada variable de 12 V.\n",
        "\n",
        "**[Ver Script de Scilab en GitHub](https://raw.githubusercontent.com/SMMiroE/Herramientas-de-calculo-y-simulacion-de-procesos-dinamicos/main/Modulo%201%20Semana%207/RLC%203%20Sobreamortiguado%20Ve%20variable.sci)**\n",
        "\n",
        "![Gráfico Circuito RLC Tensión Variable](https://raw.githubusercontent.com/SMMiroE/Herramientas-de-calculo-y-simulacion-de-procesos-dinamicos/main/Modulo%201%20Semana%207/RLC%203%20Sobreamortiguado%20Ve%20variable.png)"
      ],
      "metadata": {
        "id": "puy0pdftlFMq"
      }
    },
    {
      "cell_type": "markdown",
      "source": [
        "\n",
        "## Actividad 2: Modelo de Altitud de un Avión\n",
        "\n",
        "2- Obtener la solución numérica del sistema lineal para evaluar cuantitativamente el\n",
        "comportamiento con intención de verificar el correcto planteo. Para hacerlo, se les\n",
        "asignan los valores siguientes a los parámetros, son =0,2; a=0,01; b=2; c=100\n",
        "m/s, (es decir, 360Km/h), t=10-3; y el tiempo de simulación de 5 segundos.\n",
        "\n",
        "Se analiza el comportamiento de la altitud de un avión utilizando un modelo linealizado. En esta simulación, la velocidad de vuelo se establece en c=100 m/s. Se presenta la evolución de las variables de estado, mostrando la dinámica del sistema en esta condición de operación.\n",
        "\n",
        "**[Ver Script de Scilab en GitHub](https://raw.githubusercontent.com/SMMiroE/Herramientas-de-calculo-y-simulacion-de-procesos-dinamicos/main/Modulo%201%20Semana%207/Avion%20.sci)**\n",
        "\n",
        "![Gráfico Modelo de Avión c=100m_s](https://raw.githubusercontent.com/SMMiroE/Herramientas-de-calculo-y-simulacion-de-procesos-dinamicos/main/Modulo%201%20Semana%207/Avion%202.png)\n",
        "\n",
        "3- Obtener la solución numérica del sistema lineal para c=50 m/s, (es decir, 180Km/h), t=10-3; y el tiempo de simulación de 20 segundos.\n",
        "\n",
        "Se simula nuevamente el modelo de altitud del avión, esta vez con una velocidad de vuelo reducida a c=50 m/s. Esta condición permite observar un comportamiento oscilatorio más pronunciado en las variables de estado debido a la menor velocidad y su influencia en la dinámica del sistema.\n",
        "\n",
        "**[Ver Script de Scilab en GitHub](https://raw.githubusercontent.com/SMMiroE/Herramientas-de-calculo-y-simulacion-de-procesos-dinamicos/main/Modulo%201%20Semana%207/Avion%20.sci)**\n",
        "\n",
        "![Gráfico Modelo de Avión c=50m_s](https://raw.githubusercontent.com/SMMiroE/Herramientas-de-calculo-y-simulacion-de-procesos-dinamicos/main/Modulo%201%20Semana%207/Avion%203.png)"
      ],
      "metadata": {
        "id": "hPdq-H5nlc1h"
      }
    },
    {
      "cell_type": "markdown",
      "source": [
        "\n",
        "**Ejercicio 3. Verificación en simulación numérica de la linealización de un\n",
        "sistema no lineal - Pendulo Invertido**\n",
        "\n",
        "1- Obtener simulaciones del sistema (7-9) en las condiciones iniciales\n",
        "$x_0 = [0 \\ 0 \\ -0.01 \\ 0]^T$ y $x_0 = [0 \\ 0 \\ 3.2 \\ 0]^T$ , empleando una integración\n",
        "Euler adecuado a las constantes de tiempo del sistema linealizado (por ejemplo\n",
        "t=10-4). El tiempo de simulación será de 10 segundos en cada caso, con u=0.\n",
        "\n",
        "\n",
        "Se obtuvieron simulaciones del sistema de péndulo invertido sobre carro (sistema 7-9) bajo dos condiciones iniciales: para el equilibrio inestable ($x_0 = [0 \\ 0 \\ -0.01 \\ 0]^T$) y para el equilibrio estable ($x_0 = [0 \\ 0 \\ 3.2 \\ 0]^T$). Las simulaciones se realizaron empleando una integración de Euler con un paso de tiempo adecuado ($\\Delta t=10^{-4}$) para capturar las constantes de tiempo del sistema linealizado, durante 10 segundos y con una entrada de control nula ($u=0$).\n",
        "\n",
        "Equilibrio Estable ($x_0 = [0 \\ 0 \\ 3.2 \\ 0]^T$)\n",
        "**[Ver Script de Scilab para Equilibrio Estable en GitHub](https://raw.githubusercontent.com/SMMiroE/Herramientas-de-calculo-y-simulacion-de-procesos-dinamicos/main/Modulo%201%20Semana%207/Pendulo%20Invertido%20Equilibrio%20Estable.sci)**\n",
        "\n",
        "![Gráfico Péndulo Invertido - Equilibrio Estable (Estados)](https://raw.githubusercontent.com/SMMiroE/Herramientas-de-calculo-y-simulacion-de-procesos-dinamicos/main/Modulo%201%20Semana%207/Pendulo%20Invertido%20Eq%20Est%201a.png)\n",
        "![Gráfico Péndulo Invertido - Equilibrio Estable (Espacio de Fases)](https://raw.githubusercontent.com/SMMiroE/Herramientas-de-calculo-y-simulacion-de-procesos-dinamicos/main/Modulo%201%20Semana%207/Pendulo%20invertido%20Eq%20Est%201b.png)\n",
        "\n",
        "Equilibrio Inestable ($x_0 = [0 \\ 0 \\ -0.01 \\ 0]^T$)\n",
        "**[Ver Script de Scilab para Equilibrio Inestable en GitHub](https://raw.githubusercontent.com/SMMiroE/Herramientas-de-calculo-y-simulacion-de-procesos-dinamicos/main/Modulo%201%20Semana%207/Pendulo%20Invertido%20Equilibrbio%20Inestable.sci)**\n",
        "\n",
        "![Gráfico Péndulo Invertido - Equilibrio Inestable (Estados)](https://raw.githubusercontent.com/SMMiroE/Herramientas-de-calculo-y-simulacion-de-procesos-dinamicos/main/Modulo%201%20Semana%207/Pendulo%20Invertido%20Eq%20Inest%201a.png)\n",
        "![Gráfico Péndulo Invertido - Equilibrio Inestable (Espacio de Fases)](https://raw.githubusercontent.com/SMMiroE/Herramientas-de-calculo-y-simulacion-de-procesos-dinamicos/main/Modulo%201%20Semana%207/Pendulo%20Invertido%20Eq%20Inest%201b.png)"
      ],
      "metadata": {
        "id": "v6r9wroXnEjF"
      }
    },
    {
      "cell_type": "markdown",
      "source": [
        "2- Modificar la masa $m$ al doble y repetir las simulaciones para el equilibrio estable e inestable.\n",
        "\n",
        "Se realizó la misma secuencia de simulaciones del punto anterior, pero duplicando el valor de la masa $m$ del péndulo. Esto permite observar cómo un cambio en este parámetro fundamental afecta la dinámica del sistema, incluyendo las frecuencias de oscilación y los tiempos de asentamiento, tanto para el modelo linealizado como para el no lineal.\n",
        "\n",
        "Equilibrio Estable (Masa m al doble)\n",
        "**[Ver Script de Scilab para Equilibrio Estable en GitHub](https://raw.githubusercontent.com/SMMiroE/Herramientas-de-calculo-y-simulacion-de-procesos-dinamicos/main/Modulo%201%20Semana%207/Pendulo%20Invertido%20Equilibrio%20Estable.sci)**\n",
        "\n",
        "![Gráfico Péndulo Invertido - Eq. Estable (Masa Doble) Estados](https://raw.githubusercontent.com/SMMiroE/Herramientas-de-calculo-y-simulacion-de-procesos-dinamicos/main/Modulo%201%20Semana%207/Pendulo%20Invertido%20Eq%20Est%202a.png)\n",
        "![Gráfico Péndulo Invertido - Eq. Estable (Masa Doble) Espacio de Fases](https://raw.githubusercontent.com/SMMiroE/Herramientas-de-calculo-y-simulacion-de-procesos-dinamicos/main/Modulo%201%20Semana%207/Pendulo%20Invertido%20Eq%20Est%202b.png)\n",
        "\n",
        "Equilibrio Inestable (Masa m al doble)\n",
        "**[Ver Script de Scilab para Equilibrio Inestable en GitHub](https://raw.githubusercontent.com/SMMiroE/Herramientas-de-calculo-y-simulacion-de-procesos-dinamicos/main/Modulo%201%20Semana%207/Pendulo%20Invertido%20Equilibrbio%20Inestable.sci)**\n",
        "\n",
        "![Gráfico Péndulo Invertido - Eq. Inestable (Masa Doble) Estados](https://raw.githubusercontent.com/SMMiroE/Herramientas-de-calculo-y-simulacion-de-procesos-dinamicos/main/Modulo%201%20Semana%207/Pendulo%20Invertido%20Eq%20Inest%202a.png)\n",
        "![Gráfico Péndulo Invertido - Eq. Inestable (Masa Doble) Espacio de Fases](https://raw.githubusercontent.com/SMMiroE/Herramientas-de-calculo-y-simulacion-de-procesos-dinamicos/main/Modulo%201%20Semana%207/Pendulo%20Invertido%20Eq%20Inest%202b.png)"
      ],
      "metadata": {
        "id": "qvvj1AMJp5vq"
      }
    },
    {
      "cell_type": "markdown",
      "source": [
        "3- Obtener la solución numérica de los dos sistemas (lineal y no lineal) para evaluar cuantitativamente la equivalencia, modificando la masa $m$ de 0.1 a 0.01 y la longitud $l$ a 1.2m.\n",
        "\n",
        "Al reducir la masa y aumentar la longitud, se observa cómo estas modificaciones alteran las características dinámicas del sistema, afectando la estabilidad y la respuesta oscilatoria, y cómo la linealización se mantiene válida para pequeñas desviaciones alrededor de los puntos de equilibrio.\n",
        "\n",
        "Equilibrio Estable (m=0.01, l=1.2m)\n",
        "**[Ver Script de Scilab para Equilibrio Estable en GitHub](https://raw.githubusercontent.com/SMMiroE/Herramientas-de-calculo-y-simulacion-de-procesos-dinamicos/main/Modulo%201%20Semana%207/Pendulo%20Invertido%20Equilibrio%20Estable.sci)**\n",
        "\n",
        "![Gráfico Péndulo Invertido - Eq. Estable (m=0.01, l=1.2) Estados](https://raw.githubusercontent.com/SMMiroE/Herramientas-de-calculo-y-simulacion-de-procesos-dinamicos/main/Modulo%201%20Semana%207/Pendulo%20Invertido%20Eq%20Est%203a.png)\n",
        "![Gráfico Péndulo Invertido - Eq. Estable (m=0.01, l=1.2) Espacio de Fases](https://raw.githubusercontent.com/SMMiroE/Herramientas-de-calculo-y-simulacion-de-procesos-dinamicos/main/Modulo%201%20Semana%207/Pendulo%20Invertido%20Eq%20Est%203b.png)\n",
        "\n",
        "Equilibrio Inestable (m=0.01, l=1.2m)\n",
        "**[Ver Script de Scilab para Equilibrio Inestable en GitHub](https://raw.githubusercontent.com/SMMiroE/Herramientas-de-calculo-y-simulacion-de-procesos-dinamicos/main/Modulo%201%20Semana%207/Pendulo%20Invertido%20Equilibrbio%20Inestable.sci)**\n",
        "\n",
        "![Gráfico Péndulo Invertido - Eq. Inestable (m=0.01, l=1.2) Estados](https://raw.githubusercontent.com/SMMiroE/Herramientas-de-calculo-y-simulacion-de-procesos-dinamicos/main/Modulo%201%20Semana%207/Pendulo%20Invertido%20Eq%20Inest%203a.png)\n",
        "![Gráfico Péndulo Invertido - Eq. Inestable (m=0.01, l=1.2) Espacio de Fases](https://raw.githubusercontent.com/SMMiroE/Herramientas-de-calculo-y-simulacion-de-procesos-dinamicos/main/Modulo%201%20Semana%207/Pendulo%20Invertido%20Eq%20Inest%203b.png)\n"
      ],
      "metadata": {
        "id": "WWFEKGHWqwT6"
      }
    },
    {
      "cell_type": "markdown",
      "source": [
        "4- Obtener el sistema lineal para el equilibrio estable $x = [0 \\ 0 \\ \\pi \\ 0]^T$.\n",
        "\n",
        "Se implementa un código Python para obtener las expresiones simbólicas de $\\ddot{\\phi}$ (fi_pp), $\\ddot{\\delta}$ (p_pp) y la matriz de estados $A$. Los resultados de estas expresiones y la matriz A se mostrarán en la salida del código Python a continuación."
      ],
      "metadata": {
        "id": "1Meuw6yX3ysM"
      }
    },
    {
      "cell_type": "code",
      "source": [
        "# @title\n",
        "from sympy import symbols, pi, simplify, solve, diff, Matrix, pprint\n",
        "\n",
        "# Declarar las variables simbólicas\n",
        "fi, fi_p, fi_pp, p, p_p, p_pp = symbols('fi fi_p fi_pp p p_p p_pp')\n",
        "M, m, u, long, Fricc, g = symbols('M m u long Fricc g')\n",
        "\n",
        "print(\"Para el equilibrio estable\")\n",
        "\n",
        "# Valor del ángulo inicial en equilibrio\n",
        "ang_inic = pi\n",
        "\n",
        "# Ecuación para p_pp\n",
        "p_pp_expr = (1 / (M + m)) * (u + m * long * fi_pp + m * long * fi_p**2 * (pi - fi) - Fricc * p_p)\n",
        "\n",
        "# Ecuación para fi_pp, considerando sin(fi) ≈ pi - fi\n",
        "fi_pp_expr = solve(fi_pp - (1 / long) * (g * (pi - fi) + p_pp_expr), fi_pp)[0]\n",
        "\n",
        "print('fi_pp =')\n",
        "pprint(simplify(fi_pp_expr))\n",
        "\n",
        "# Sustituir fi_pp en p_pp\n",
        "p_pp_expr = p_pp_expr.subs(fi_pp, fi_pp_expr)\n",
        "\n",
        "print('p_pp =')\n",
        "pprint(simplify(p_pp_expr))\n",
        "\n",
        "# Evaluar derivadas para construir la matriz A, alrededor del punto de equilibrio\n",
        "subs_dict = {p: 0, p_p: 0, fi: ang_inic, fi_p: 0}\n",
        "\n",
        "A_row2 = [\n",
        "    simplify(diff(p_pp_expr, var).subs(subs_dict)) for var in [p, p_p, fi, fi_p]\n",
        "]\n",
        "A_row4 = [\n",
        "    simplify(diff(fi_pp_expr, var).subs(subs_dict)) for var in [p, p_p, fi, fi_p]\n",
        "]\n",
        "\n",
        "# Matriz A final\n",
        "Mat_A = Matrix([\n",
        "    [0, 1, 0, 0],\n",
        "    A_row2,\n",
        "    [0, 0, 0, 1],\n",
        "    A_row4\n",
        "])\n",
        "\n",
        "print(\"Matriz A =\")\n",
        "pprint(Mat_A)\n"
      ],
      "metadata": {
        "colab": {
          "base_uri": "https://localhost:8080/"
        },
        "cellView": "form",
        "id": "h3YklXCg4ErH",
        "outputId": "813a3abf-5e90-4895-bf22-9d3a69aa4c72"
      },
      "execution_count": 1,
      "outputs": [
        {
          "output_type": "stream",
          "name": "stdout",
          "text": [
            "Para el equilibrio estable\n",
            "fi_pp =\n",
            "                                       2                            \n",
            "-Fricc⋅pₚ - M⋅g⋅(fi - π) - fi⋅g⋅m - fiₚ ⋅long⋅m⋅(fi - π) + π⋅g⋅m + u\n",
            "────────────────────────────────────────────────────────────────────\n",
            "                               M⋅long                               \n",
            "p_pp =\n",
            "                  2                        2                   \n",
            "-Fricc⋅pₚ - fi⋅fiₚ ⋅long⋅m - fi⋅g⋅m + π⋅fiₚ ⋅long⋅m + π⋅g⋅m + u\n",
            "───────────────────────────────────────────────────────────────\n",
            "                               M                               \n",
            "Matriz A =\n",
            "⎡0     1         0       0⎤\n",
            "⎢                         ⎥\n",
            "⎢   -Fricc     -g⋅m       ⎥\n",
            "⎢0  ───────    ─────     0⎥\n",
            "⎢      M         M        ⎥\n",
            "⎢                         ⎥\n",
            "⎢0     0         0       1⎥\n",
            "⎢                         ⎥\n",
            "⎢   -Fricc   g⋅(-M - m)   ⎥\n",
            "⎢0  ───────  ──────────  0⎥\n",
            "⎣   M⋅long     M⋅long     ⎦\n"
          ]
        }
      ]
    },
    {
      "cell_type": "markdown",
      "source": [
        "5- Obtener la solución numérica de los dos sistemas, del lineal y del no lineal para evaluar cuantitativamente la equivalencia en el equilibrio estable modificando m de 0,1 a 0,01 y cambiar la longitud l a 1,2m\n",
        "\n",
        "Esta actividad se realizo en el punto 3-."
      ],
      "metadata": {
        "id": "cDNSaq9I4rLN"
      }
    }
  ]
}